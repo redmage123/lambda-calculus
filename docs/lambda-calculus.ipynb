{
 "cells": [
  {
   "cell_type": "markdown",
   "metadata": {},
   "source": [
    "# An Introduction to Lambda Calculus with Python."
   ]
  },
  {
   "cell_type": "markdown",
   "metadata": {},
   "source": [
    "Before we start, I'm going to define some useful functions that will allow me to display results to you. \n",
    "These functions aren't part of this hypothetical language, they're only there to allow me to demonstrate results to you all. "
   ]
  },
  {
   "cell_type": "code",
   "execution_count": 9,
   "metadata": {},
   "outputs": [],
   "source": [
    "def incr(x):\n",
    "    return x+1\n",
    "def show(x):\n",
    "    print (incr(x))"
   ]
  },
  {
   "cell_type": "markdown",
   "metadata": {},
   "source": [
    "## Language Definition\n",
    "\n",
    "Let's consider the following:\n",
    "We have a programming language defines only one thing: A single value function.  \n",
    "That is to say, a function that only takes a single parameter and returns a function. "
   ]
  },
  {
   "cell_type": "markdown",
   "metadata": {},
   "source": [
    "<img src='graphics/16e.gif'/>"
   ]
  },
  {
   "cell_type": "markdown",
   "metadata": {},
   "source": [
    "What if single value functions are the only thing in the universe?"
   ]
  },
  {
   "cell_type": "code",
   "execution_count": 10,
   "metadata": {},
   "outputs": [
    {
     "ename": "SyntaxError",
     "evalue": "invalid syntax (<ipython-input-10-73a46b2abd37>, line 11)",
     "output_type": "error",
     "traceback": [
      "\u001b[0;36m  File \u001b[0;32m\"<ipython-input-10-73a46b2abd37>\"\u001b[0;36m, line \u001b[0;32m11\u001b[0m\n\u001b[0;31m    def ():         # Illegal, no parameter-less functions\u001b[0m\n\u001b[0m        ^\u001b[0m\n\u001b[0;31mSyntaxError\u001b[0m\u001b[0;31m:\u001b[0m invalid syntax\n"
     ]
    }
   ],
   "source": [
    "\n",
    "\n",
    "a + 1      # Illegal.  No concept of a number '1'. \n",
    "           # No operator '+' \n",
    "           # In fact, no datatypes \n",
    "           #  (strings, numbers,  etc.) at all. \n",
    "    \n",
    "import some_package     #Illegal.  No packages/modules.\n",
    "    \n",
    "def f (a,b):   # Illegal.  Only one param allowed. \n",
    "    pass\n",
    "   \n",
    "def ():         # Illegal, no parameter-less functions \n",
    "    pass        # allowed.\n",
    "   \n",
    "\n",
    "if\n",
    "elif           \n",
    "else           # Illegal.  No control flow statements. \n",
    "for\n",
    "while\n",
    "\n",
    "class Foo:     #Illegal, no classes/objects\n",
    "\n",
    "\n",
    "def f(x):      # This is legal. \n",
    "    return x\n",
    "   \n",
    "def f(x):\n",
    "    return x(x)   # This is legal.  x is a single value \n",
    "                  # function. \n",
    "\n",
    "def f(x):\n",
    "    def g(y):         # This is legal.  We can create \n",
    "        return x(y)   # Another single value function\n",
    "    return g          # inside our function. \n",
    "    \n",
    "\n",
    "No default values, positional arguments, no keyword arguments, etc. \n",
    "\n",
    "\n"
   ]
  },
  {
   "cell_type": "markdown",
   "metadata": {},
   "source": [
    "The question becomes:  Can I do anything useful with such a language?"
   ]
  },
  {
   "cell_type": "markdown",
   "metadata": {},
   "source": [
    "As an aside, In Python, we can take a multivalued function and turn it into two single valued functions like so:"
   ]
  },
  {
   "cell_type": "code",
   "execution_count": 11,
   "metadata": {},
   "outputs": [
    {
     "name": "stdout",
     "output_type": "stream",
     "text": [
      "In add\n"
     ]
    },
    {
     "data": {
      "text/plain": [
       "5"
      ]
     },
     "execution_count": 11,
     "metadata": {},
     "output_type": "execute_result"
    }
   ],
   "source": [
    "def add(x,y):\n",
    "    return x + y\n",
    "\n",
    "def add(x):    # This is currying. \n",
    "    print (\"In add\")\n",
    "    def f(y):\n",
    "        return x + y\n",
    "    return f\n",
    "\n",
    "add(2)(3)"
   ]
  },
  {
   "cell_type": "markdown",
   "metadata": {},
   "source": [
    "So, again, is there anything we can do with such a restricted language?"
   ]
  },
  {
   "cell_type": "markdown",
   "metadata": {},
   "source": [
    "Consider an electrical switch.\n",
    "\n",
    "<img src = graphics/switch.jpeg/>\n",
    "\n",
    "A switch has two inputs (let's say a '5V' in the left position  and a 'Ground' in the right position)\n",
    "and one output. \n",
    "\n",
    "Can we model this using our cut down language?\n",
    "\n"
   ]
  },
  {
   "cell_type": "markdown",
   "metadata": {},
   "source": [
    "Let's define a couple of functions:"
   ]
  },
  {
   "cell_type": "code",
   "execution_count": 12,
   "metadata": {},
   "outputs": [],
   "source": [
    "def LEFT(a):\n",
    "    def f(b):\n",
    "        return (a)\n",
    "    return f\n",
    "\n",
    "def RIGHT(a):\n",
    "    def f(b):\n",
    "        return b\n",
    "    return f\n",
    "        "
   ]
  },
  {
   "cell_type": "code",
   "execution_count": 13,
   "metadata": {},
   "outputs": [
    {
     "data": {
      "text/plain": [
       "'5v'"
      ]
     },
     "execution_count": 13,
     "metadata": {},
     "output_type": "execute_result"
    }
   ],
   "source": [
    "LEFT('5v')('grnd')   # Yes I know we can't technically use '5v' or \n",
    "                     # 'Grnd' but we need something for \n",
    "                     # illustrative purposes"
   ]
  },
  {
   "cell_type": "code",
   "execution_count": 14,
   "metadata": {},
   "outputs": [
    {
     "data": {
      "text/plain": [
       "'grnd'"
      ]
     },
     "execution_count": 14,
     "metadata": {},
     "output_type": "execute_result"
    }
   ],
   "source": [
    "RIGHT('5v')('grnd')"
   ]
  },
  {
   "cell_type": "markdown",
   "metadata": {},
   "source": [
    "An important take away here is that we're not actually 'setting' anything to the left or right value.  We're just describing a behavior.  "
   ]
  },
  {
   "cell_type": "markdown",
   "metadata": {},
   "source": [
    "Note that the double () notation in Python is simply a syntactical shortcut to call LEFT() or RIGHT() and then f() "
   ]
  },
  {
   "cell_type": "markdown",
   "metadata": {},
   "source": [
    "Can I take the above concept of modeling the behavior of a switch and use it to be able to define the concept of True and False?\n"
   ]
  },
  {
   "cell_type": "markdown",
   "metadata": {},
   "source": [
    "Let's use our switch functions and redefine them to be TRUE and FALSE. We're going to use the *lambda* Python keyword to define our function anonymously rather than use a formal *def* function definition."
   ]
  },
  {
   "cell_type": "code",
   "execution_count": 15,
   "metadata": {},
   "outputs": [],
   "source": [
    "def TRUE(x):\n",
    "    return lambda y:x\n",
    "\n",
    "def FALSE (x):\n",
    "    return lambda y:y"
   ]
  },
  {
   "cell_type": "code",
   "execution_count": 16,
   "metadata": {},
   "outputs": [
    {
     "data": {
      "text/plain": [
       "'5V'"
      ]
     },
     "execution_count": 16,
     "metadata": {},
     "output_type": "execute_result"
    }
   ],
   "source": [
    "TRUE('5V')('GRND')"
   ]
  },
  {
   "cell_type": "code",
   "execution_count": 17,
   "metadata": {},
   "outputs": [
    {
     "data": {
      "text/plain": [
       "'GRND'"
      ]
     },
     "execution_count": 17,
     "metadata": {},
     "output_type": "execute_result"
    }
   ],
   "source": [
    "FALSE('5V')('GRND')"
   ]
  },
  {
   "cell_type": "code",
   "execution_count": 18,
   "metadata": {},
   "outputs": [
    {
     "data": {
      "text/plain": [
       "<function __main__.TRUE(x)>"
      ]
     },
     "execution_count": 18,
     "metadata": {},
     "output_type": "execute_result"
    }
   ],
   "source": [
    "TRUE(TRUE)(FALSE)"
   ]
  },
  {
   "cell_type": "code",
   "execution_count": 19,
   "metadata": {},
   "outputs": [
    {
     "data": {
      "text/plain": [
       "<function __main__.FALSE(x)>"
      ]
     },
     "execution_count": 19,
     "metadata": {},
     "output_type": "execute_result"
    }
   ],
   "source": [
    "FALSE(TRUE)(FALSE)"
   ]
  },
  {
   "cell_type": "markdown",
   "metadata": {},
   "source": [
    "Now that we have a representation of the Boolean values, can we use our language to implement Boolean operators?"
   ]
  },
  {
   "cell_type": "markdown",
   "metadata": {},
   "source": [
    "<img src='graphics/boole.jpeg'/>"
   ]
  },
  {
   "cell_type": "markdown",
   "metadata": {},
   "source": [
    "How about implementing the NOT operator?\n",
    "Let's assert the following:\n",
    "\n",
    "assert (NOT(TRUE) is FALSE)<br>\n",
    "assert (NOT(FALSE) is TRUE)\n"
   ]
  },
  {
   "cell_type": "markdown",
   "metadata": {},
   "source": [
    "We know that the x value passed into the NOT function is in itself, a function. \n",
    "I.e. \n",
    "def NOT(x):\n",
    "    return x(...)(...)\n"
   ]
  },
  {
   "cell_type": "markdown",
   "metadata": {},
   "source": [
    "We know that TRUE picks the first thing, and FALSE picks the second thing.  So, what if we simply reverse it?"
   ]
  },
  {
   "cell_type": "code",
   "execution_count": 20,
   "metadata": {},
   "outputs": [
    {
     "data": {
      "text/plain": [
       "<function __main__.FALSE(x)>"
      ]
     },
     "execution_count": 20,
     "metadata": {},
     "output_type": "execute_result"
    }
   ],
   "source": [
    "def NOT(x):\n",
    "    return x(FALSE)(TRUE)\n",
    "\n",
    "NOT(TRUE)"
   ]
  },
  {
   "cell_type": "code",
   "execution_count": 21,
   "metadata": {},
   "outputs": [
    {
     "data": {
      "text/plain": [
       "<function __main__.TRUE(x)>"
      ]
     },
     "execution_count": 21,
     "metadata": {},
     "output_type": "execute_result"
    }
   ],
   "source": [
    "NOT (FALSE)"
   ]
  },
  {
   "cell_type": "markdown",
   "metadata": {},
   "source": [
    "Let's go a bit further.  What about the AND operator?\n",
    "\n",
    "Hint: in Python the and operator works like this:"
   ]
  },
  {
   "cell_type": "code",
   "execution_count": 22,
   "metadata": {},
   "outputs": [
    {
     "name": "stdout",
     "output_type": "stream",
     "text": [
      "3\n",
      "0\n"
     ]
    }
   ],
   "source": [
    "print (2 and 3)\n",
    "print (0 and 3)"
   ]
  },
  {
   "cell_type": "markdown",
   "metadata": {},
   "source": [
    "So, let's create some function AND that might look like this:\n",
    "\n",
    "def AND(x):<br>\n",
    "    return lambda y: x(...)(...)\n",
    "    \n",
    "The first thing we do is look at the value of x. \n",
    "if x is TRUE, then we pick the first thing. \n",
    "lambda y: x(y).  Note that if X is true, then we determine the return value of AND based solely on the value of the 'y' argument.  if x is false, then we simply pick x. "
   ]
  },
  {
   "cell_type": "markdown",
   "metadata": {},
   "source": [
    "So, let's apply this to our AND function. "
   ]
  },
  {
   "cell_type": "code",
   "execution_count": 23,
   "metadata": {},
   "outputs": [],
   "source": [
    "def AND(x):\n",
    "    return lambda y:x(y)(x)"
   ]
  },
  {
   "cell_type": "code",
   "execution_count": 24,
   "metadata": {},
   "outputs": [
    {
     "data": {
      "text/plain": [
       "<function __main__.TRUE(x)>"
      ]
     },
     "execution_count": 24,
     "metadata": {},
     "output_type": "execute_result"
    }
   ],
   "source": [
    "AND(TRUE)(TRUE)"
   ]
  },
  {
   "cell_type": "code",
   "execution_count": 25,
   "metadata": {},
   "outputs": [
    {
     "data": {
      "text/plain": [
       "<function __main__.FALSE(x)>"
      ]
     },
     "execution_count": 25,
     "metadata": {},
     "output_type": "execute_result"
    }
   ],
   "source": [
    "AND(TRUE)(FALSE)"
   ]
  },
  {
   "cell_type": "code",
   "execution_count": 26,
   "metadata": {},
   "outputs": [
    {
     "data": {
      "text/plain": [
       "<function __main__.FALSE(x)>"
      ]
     },
     "execution_count": 26,
     "metadata": {},
     "output_type": "execute_result"
    }
   ],
   "source": [
    "AND(FALSE)(TRUE)"
   ]
  },
  {
   "cell_type": "code",
   "execution_count": 27,
   "metadata": {},
   "outputs": [
    {
     "data": {
      "text/plain": [
       "<function __main__.FALSE(x)>"
      ]
     },
     "execution_count": 27,
     "metadata": {},
     "output_type": "execute_result"
    }
   ],
   "source": [
    "AND(FALSE)(FALSE)"
   ]
  },
  {
   "cell_type": "markdown",
   "metadata": {},
   "source": [
    "How about the OR function?\n",
    "Well if the first argument to the OR function is TRUE, then the statement is TRUE, else it's the next argument. "
   ]
  },
  {
   "cell_type": "code",
   "execution_count": 28,
   "metadata": {},
   "outputs": [],
   "source": [
    "def OR(x):\n",
    "    return lambda y:x(x)(y)"
   ]
  },
  {
   "cell_type": "code",
   "execution_count": 29,
   "metadata": {},
   "outputs": [
    {
     "data": {
      "text/plain": [
       "<function __main__.TRUE(x)>"
      ]
     },
     "execution_count": 29,
     "metadata": {},
     "output_type": "execute_result"
    }
   ],
   "source": [
    "OR(TRUE)(FALSE)"
   ]
  },
  {
   "cell_type": "code",
   "execution_count": 30,
   "metadata": {},
   "outputs": [
    {
     "data": {
      "text/plain": [
       "<function __main__.TRUE(x)>"
      ]
     },
     "execution_count": 30,
     "metadata": {},
     "output_type": "execute_result"
    }
   ],
   "source": [
    "OR(TRUE)(TRUE)"
   ]
  },
  {
   "cell_type": "code",
   "execution_count": 31,
   "metadata": {},
   "outputs": [
    {
     "data": {
      "text/plain": [
       "<function __main__.TRUE(x)>"
      ]
     },
     "execution_count": 31,
     "metadata": {},
     "output_type": "execute_result"
    }
   ],
   "source": [
    "OR(FALSE)(TRUE)"
   ]
  },
  {
   "cell_type": "code",
   "execution_count": 32,
   "metadata": {},
   "outputs": [
    {
     "data": {
      "text/plain": [
       "<function __main__.FALSE(x)>"
      ]
     },
     "execution_count": 32,
     "metadata": {},
     "output_type": "execute_result"
    }
   ],
   "source": [
    "OR(FALSE)(FALSE)"
   ]
  },
  {
   "cell_type": "markdown",
   "metadata": {},
   "source": [
    "So, now we've gone from nothing to being able to implement Boolean logic.  Can we take this further?\n",
    "\n",
    "Could we, for example represent numbers using functions?\n",
    "\n",
    "A good way to think about this is to go back to Kindergarden and think about how we understand numbers using things like finger counting and hash marks. "
   ]
  },
  {
   "cell_type": "markdown",
   "metadata": {},
   "source": [
    "<img src = 'graphics/hash.webp'/>"
   ]
  },
  {
   "cell_type": "markdown",
   "metadata": {},
   "source": [
    "Let's see if we can represent numbers as a behavior of our functions.  For example the number one. "
   ]
  },
  {
   "cell_type": "code",
   "execution_count": 33,
   "metadata": {},
   "outputs": [],
   "source": [
    "ONE = lambda f: lambda x: f(x)"
   ]
  },
  {
   "cell_type": "code",
   "execution_count": 34,
   "metadata": {},
   "outputs": [
    {
     "data": {
      "text/plain": [
       "1"
      ]
     },
     "execution_count": 34,
     "metadata": {},
     "output_type": "execute_result"
    }
   ],
   "source": [
    "ONE(incr)(0)"
   ]
  },
  {
   "cell_type": "markdown",
   "metadata": {},
   "source": [
    "The other numbers can be represented similarly."
   ]
  },
  {
   "cell_type": "code",
   "execution_count": 35,
   "metadata": {},
   "outputs": [],
   "source": [
    "TWO = lambda f: lambda x: f(f(x))\n",
    "THREE = lambda f: lambda x: (f(f(f(x))))\n",
    "FOUR = lambda f: lambda x: (f(f(f(f(x)))))"
   ]
  },
  {
   "cell_type": "code",
   "execution_count": 36,
   "metadata": {},
   "outputs": [
    {
     "data": {
      "text/plain": [
       "2"
      ]
     },
     "execution_count": 36,
     "metadata": {},
     "output_type": "execute_result"
    }
   ],
   "source": [
    "TWO(incr)(0)"
   ]
  },
  {
   "cell_type": "code",
   "execution_count": 37,
   "metadata": {},
   "outputs": [
    {
     "data": {
      "text/plain": [
       "3"
      ]
     },
     "execution_count": 37,
     "metadata": {},
     "output_type": "execute_result"
    }
   ],
   "source": [
    "THREE(incr)(0)"
   ]
  },
  {
   "cell_type": "markdown",
   "metadata": {},
   "source": [
    "What about the number zero?  In this case, we don't call the function at all.  For example:"
   ]
  },
  {
   "cell_type": "code",
   "execution_count": 38,
   "metadata": {},
   "outputs": [],
   "source": [
    "ZERO = lambda f: lambda x: x"
   ]
  },
  {
   "cell_type": "code",
   "execution_count": 39,
   "metadata": {},
   "outputs": [
    {
     "data": {
      "text/plain": [
       "0"
      ]
     },
     "execution_count": 39,
     "metadata": {},
     "output_type": "execute_result"
    }
   ],
   "source": [
    "ZERO(incr)(0)"
   ]
  },
  {
   "cell_type": "markdown",
   "metadata": {},
   "source": [
    "Note that since our \"numbers\" are actually functions, we can pass one number as an argument to another.  For example:"
   ]
  },
  {
   "cell_type": "code",
   "execution_count": 40,
   "metadata": {},
   "outputs": [
    {
     "data": {
      "text/plain": [
       "81"
      ]
     },
     "execution_count": 40,
     "metadata": {},
     "output_type": "execute_result"
    }
   ],
   "source": [
    "a = FOUR(THREE)\n",
    "a(incr)(0)"
   ]
  },
  {
   "cell_type": "markdown",
   "metadata": {},
   "source": [
    "In the above example, we're running the THREE functions FOUR times.  I.e. we're now doing exponentiation. "
   ]
  },
  {
   "cell_type": "markdown",
   "metadata": {},
   "source": [
    "These numbers we've defined are called 'Church Numerals' named after Alonzo Church, who invented lambda calculus. \n",
    "\n",
    "<img src = 'graphics/church.jpg'/>"
   ]
  },
  {
   "cell_type": "markdown",
   "metadata": {},
   "source": [
    "This way of defining numbers begs a question.  How can we represent a large group of numbers?  Do we need to have a large file that we define all our numbers in?  Do we have to define a MILLION by coding a lambda with a million nested functions?"
   ]
  },
  {
   "cell_type": "markdown",
   "metadata": {},
   "source": [
    "How can we do arithmetic operations with our language?"
   ]
  },
  {
   "cell_type": "markdown",
   "metadata": {},
   "source": [
    "<img src = 'graphics/peano.png'/>"
   ]
  },
  {
   "cell_type": "markdown",
   "metadata": {},
   "source": [
    "Giuseppe Peano was an Italian mathematician who was the founder of, among other things, set theory. \n",
    "Displayed above are the *Peano axioms*.  "
   ]
  },
  {
   "cell_type": "markdown",
   "metadata": {},
   "source": [
    "So instead of hard coding our numbers, we should hopefully be able to write some sort of successor function that would, given an initial number, return the next number. \n"
   ]
  },
  {
   "cell_type": "markdown",
   "metadata": {},
   "source": [
    "But how will we implement our successor function? \n",
    "Remember that the \"API\" for a number looks like this:\n",
    "\n",
    "n = lambda f: lambda x: \n",
    "A number always takes a function 'f' and an internal function 'x'. You then repeat that\n",
    "n times to get the correct number. \n",
    "Let's use that to write our SUCC (successor) function. \n",
    "\n",
    "SUCC = lambda n: (lambda f:lambda x:f(n(f)(x)))\n",
    "The n(f)(x) is the original number. \n",
    "The f(...) is the successor.\n",
    "                                         \n",
    "                              "
   ]
  },
  {
   "cell_type": "code",
   "execution_count": 41,
   "metadata": {},
   "outputs": [],
   "source": [
    "SUCC = lambda n: (lambda f:lambda x:f(n(f)(x)))"
   ]
  },
  {
   "cell_type": "code",
   "execution_count": 42,
   "metadata": {},
   "outputs": [
    {
     "data": {
      "text/plain": [
       "5"
      ]
     },
     "execution_count": 42,
     "metadata": {},
     "output_type": "execute_result"
    }
   ],
   "source": [
    "SUCC(FOUR)(incr)(0)"
   ]
  },
  {
   "cell_type": "markdown",
   "metadata": {},
   "source": [
    "Note that we can do multiple SUCC function calls...\n"
   ]
  },
  {
   "cell_type": "code",
   "execution_count": 43,
   "metadata": {},
   "outputs": [
    {
     "data": {
      "text/plain": [
       "<function __main__.<lambda>.<locals>.<lambda>(f)>"
      ]
     },
     "execution_count": 43,
     "metadata": {},
     "output_type": "execute_result"
    }
   ],
   "source": [
    "SUCC(SUCC(FOUR))\n"
   ]
  },
  {
   "cell_type": "code",
   "execution_count": 44,
   "metadata": {},
   "outputs": [
    {
     "data": {
      "text/plain": [
       "6"
      ]
     },
     "execution_count": 44,
     "metadata": {},
     "output_type": "execute_result"
    }
   ],
   "source": [
    "_(incr)(0)"
   ]
  },
  {
   "cell_type": "markdown",
   "metadata": {},
   "source": [
    "This should now show us how to do addition...<br>\n",
    "lambda x: lambda y:y(SUCC)(x)<br>\n",
    "So, given two numbers, x and y, we return y successors of x. "
   ]
  },
  {
   "cell_type": "code",
   "execution_count": 45,
   "metadata": {},
   "outputs": [],
   "source": [
    "ADD = lambda x: lambda y: y(SUCC)(x)"
   ]
  },
  {
   "cell_type": "code",
   "execution_count": 46,
   "metadata": {},
   "outputs": [
    {
     "data": {
      "text/plain": [
       "7"
      ]
     },
     "execution_count": 46,
     "metadata": {},
     "output_type": "execute_result"
    }
   ],
   "source": [
    "ADD(FOUR)(THREE)(incr)(0)"
   ]
  },
  {
   "cell_type": "markdown",
   "metadata": {},
   "source": [
    "We can also do multiplication by understanding that if we are going to multiply two numbers *x* and *y*, that this is really y repetitions of x\n",
    "so our MUL function would look like:\n",
    "\n",
    "MUL = lambda x: lambda y: lambda f:y(x(f))"
   ]
  },
  {
   "cell_type": "code",
   "execution_count": 47,
   "metadata": {},
   "outputs": [],
   "source": [
    "MUL= lambda x: lambda y: lambda f:y(x(f))"
   ]
  },
  {
   "cell_type": "code",
   "execution_count": 48,
   "metadata": {},
   "outputs": [
    {
     "data": {
      "text/plain": [
       "16"
      ]
     },
     "execution_count": 48,
     "metadata": {},
     "output_type": "execute_result"
    }
   ],
   "source": [
    "MUL(FOUR)(FOUR)(incr)(0)"
   ]
  },
  {
   "cell_type": "markdown",
   "metadata": {},
   "source": [
    "How can we use this in the real world?\n",
    "\n",
    "Consider a problem where you are trying to parse a JSON object. \n",
    "\n",
    "Let's create a JSON object like so:\n"
   ]
  },
  {
   "cell_type": "code",
   "execution_count": 49,
   "metadata": {},
   "outputs": [],
   "source": [
    "data = {\n",
    "     'a': {\n",
    "         'b': {\n",
    "             'c': 42\n",
    "         }\n",
    "     }\n",
    "}"
   ]
  },
  {
   "cell_type": "markdown",
   "metadata": {},
   "source": [
    "What's the best way to retrieve the value of the c key?\n"
   ]
  },
  {
   "cell_type": "code",
   "execution_count": 50,
   "metadata": {},
   "outputs": [],
   "source": [
    "def getc(d):\n",
    "    return d['a']['b']['c']"
   ]
  },
  {
   "cell_type": "code",
   "execution_count": 51,
   "metadata": {},
   "outputs": [
    {
     "data": {
      "text/plain": [
       "42"
      ]
     },
     "execution_count": 51,
     "metadata": {},
     "output_type": "execute_result"
    }
   ],
   "source": [
    "getc(data)"
   ]
  },
  {
   "cell_type": "markdown",
   "metadata": {},
   "source": [
    "This works, as long as we have a value for 'a' and 'b' and 'c'. \n",
    "\n",
    "Note that what we've done here is very similar to what we've been doing in lambda calculus, calling a chain of functions. \n",
    "\n",
    "What if the JSON is malformed?  With the current getc function, we'd get a key error. "
   ]
  },
  {
   "cell_type": "code",
   "execution_count": 52,
   "metadata": {
    "scrolled": true
   },
   "outputs": [
    {
     "ename": "KeyError",
     "evalue": "'a'",
     "output_type": "error",
     "traceback": [
      "\u001b[0;31m---------------------------------------------------------------------------\u001b[0m",
      "\u001b[0;31mKeyError\u001b[0m                                  Traceback (most recent call last)",
      "\u001b[0;32m<ipython-input-52-5af274ee7039>\u001b[0m in \u001b[0;36m<module>\u001b[0;34m\u001b[0m\n\u001b[0;32m----> 1\u001b[0;31m \u001b[0mgetc\u001b[0m\u001b[0;34m(\u001b[0m\u001b[0;34m{\u001b[0m\u001b[0;34m}\u001b[0m\u001b[0;34m)\u001b[0m\u001b[0;34m\u001b[0m\u001b[0;34m\u001b[0m\u001b[0m\n\u001b[0m",
      "\u001b[0;32m<ipython-input-50-577d1b90bc2d>\u001b[0m in \u001b[0;36mgetc\u001b[0;34m(d)\u001b[0m\n\u001b[1;32m      1\u001b[0m \u001b[0;32mdef\u001b[0m \u001b[0mgetc\u001b[0m\u001b[0;34m(\u001b[0m\u001b[0md\u001b[0m\u001b[0;34m)\u001b[0m\u001b[0;34m:\u001b[0m\u001b[0;34m\u001b[0m\u001b[0;34m\u001b[0m\u001b[0m\n\u001b[0;32m----> 2\u001b[0;31m     \u001b[0;32mreturn\u001b[0m \u001b[0md\u001b[0m\u001b[0;34m[\u001b[0m\u001b[0;34m'a'\u001b[0m\u001b[0;34m]\u001b[0m\u001b[0;34m[\u001b[0m\u001b[0;34m'b'\u001b[0m\u001b[0;34m]\u001b[0m\u001b[0;34m[\u001b[0m\u001b[0;34m'c'\u001b[0m\u001b[0;34m]\u001b[0m\u001b[0;34m\u001b[0m\u001b[0;34m\u001b[0m\u001b[0m\n\u001b[0m",
      "\u001b[0;31mKeyError\u001b[0m: 'a'"
     ]
    }
   ],
   "source": [
    "getc({})"
   ]
  },
  {
   "cell_type": "markdown",
   "metadata": {},
   "source": [
    "To fix this boundary condition, we might need to guard against this by writing code that looks like this:\n"
   ]
  },
  {
   "cell_type": "code",
   "execution_count": null,
   "metadata": {},
   "outputs": [],
   "source": [
    "def getc(d):\n",
    "    d = d.get('a')\n",
    "    if d is not None:\n",
    "        d = d.get('b')\n",
    "    if d is not None:\n",
    "        d = d.get('c')\n",
    "    return d"
   ]
  },
  {
   "cell_type": "code",
   "execution_count": null,
   "metadata": {},
   "outputs": [],
   "source": [
    "getc(data)"
   ]
  },
  {
   "cell_type": "code",
   "execution_count": null,
   "metadata": {},
   "outputs": [],
   "source": [
    "getc({})"
   ]
  },
  {
   "cell_type": "markdown",
   "metadata": {},
   "source": [
    "But this code is pretty horrible.  It would probably get noticed at a code review...\n",
    "\n",
    "Lots of repetition. \n",
    "Let's re-write..."
   ]
  },
  {
   "cell_type": "code",
   "execution_count": null,
   "metadata": {},
   "outputs": [],
   "source": [
    "def perhaps(d,func):\n",
    "    if d is not None:\n",
    "        return func(d)\n",
    "    else: \n",
    "        return None\n",
    "    "
   ]
  },
  {
   "cell_type": "code",
   "execution_count": null,
   "metadata": {},
   "outputs": [],
   "source": [
    "perhaps(data, lambda d: d.get('a'))"
   ]
  },
  {
   "cell_type": "code",
   "execution_count": null,
   "metadata": {},
   "outputs": [],
   "source": [
    "perhaps(perhaps(data,lambda d: d.get('a')), lambda d: d.get('b'))"
   ]
  },
  {
   "cell_type": "markdown",
   "metadata": {},
   "source": [
    "This looks good, until we have to start writing multiple nested functions to traverse our way down the JSON object.  Then it's *perhaps()* all the way down. "
   ]
  },
  {
   "cell_type": "markdown",
   "metadata": {},
   "source": [
    "Let's refactor again.  This time we'll create a class called perhaps. "
   ]
  },
  {
   "cell_type": "code",
   "execution_count": null,
   "metadata": {},
   "outputs": [],
   "source": [
    "class Perhaps:\n",
    "    def __init__(self, value):\n",
    "        self.value = value\n",
    "    def __rshift__(self,other):\n",
    "        if self.value is not None:\n",
    "            return Perhaps(other(self.value))\n",
    "        else:\n",
    "            return self"
   ]
  },
  {
   "cell_type": "code",
   "execution_count": null,
   "metadata": {},
   "outputs": [],
   "source": [
    "Perhaps(data) >> (lambda d: d.get('a')) \\\n",
    "              >> (lambda d: d.get('b')) \\\n",
    "              >> (lambda d: d.get('c'))\n"
   ]
  },
  {
   "cell_type": "code",
   "execution_count": null,
   "metadata": {},
   "outputs": [],
   "source": [
    "_.value"
   ]
  },
  {
   "cell_type": "markdown",
   "metadata": {},
   "source": [
    "## A slight digression into Monads\n",
    "The Perhaps class is an example of something known as a 'monad'.  Monads are a mathematical construct that have been applied to functional programming.  It allows programmers to write 'pure' functional code while handling side effects.  \n",
    "\n",
    "Monads are a design pattern. \n",
    "\n",
    "The Perhaps class is a type of a Monad known as a 'maybe' monad. "
   ]
  },
  {
   "cell_type": "markdown",
   "metadata": {},
   "source": [
    "## A digression into Lambda Calculus notation\n",
    "\n",
    "When we started this talk, we defined our functions using the standard python 'def' like so:\n",
    "\n",
    "\n",
    "\n"
   ]
  },
  {
   "cell_type": "code",
   "execution_count": null,
   "metadata": {},
   "outputs": [],
   "source": [
    "def AND(x):\n",
    "    def f(y):\n",
    "        return x(y)(x)\n",
    "     return f"
   ]
  },
  {
   "cell_type": "markdown",
   "metadata": {},
   "source": [
    "Then we shortened this using the python lambda keyword. "
   ]
  },
  {
   "cell_type": "code",
   "execution_count": null,
   "metadata": {},
   "outputs": [],
   "source": [
    "def AND(x):\n",
    "    return lambda y: x(y)(x)"
   ]
  },
  {
   "cell_type": "markdown",
   "metadata": {},
   "source": [
    "And even further using all lambdas..."
   ]
  },
  {
   "cell_type": "code",
   "execution_count": null,
   "metadata": {},
   "outputs": [],
   "source": [
    "AND = lambda x: lambda y: x(y)(x)"
   ]
  },
  {
   "cell_type": "markdown",
   "metadata": {},
   "source": [
    "Can we go further in reducing the notation?\n",
    "The answer to that is yes. \n",
    "Let's replace the lambda statement with the greek lambda character.\n",
    "$\\lambda$"
   ]
  },
  {
   "cell_type": "markdown",
   "metadata": {},
   "source": [
    "Now let's re-write the function in our lambda calculus notation:\n",
    "\n",
    "$\\lambda$ x: $\\lambda$ y: x(y)(x)"
   ]
  },
  {
   "cell_type": "markdown",
   "metadata": {},
   "source": [
    "Let's go even further.  Note that in the function, we have two lambdas in a row.  Let's re-write our function to combine them.<br>\n",
    "\n",
    "$\\lambda$ xy: x(y)(x)"
   ]
  },
  {
   "cell_type": "markdown",
   "metadata": {},
   "source": [
    "Also note that in this function definition the RHS of the lambda is a number of chained function calls.\n",
    "\n",
    "Let's make our notation even more compact by getting rid of the parentheses. \n",
    "\n",
    "$\\lambda$ xy: xyx"
   ]
  },
  {
   "cell_type": "markdown",
   "metadata": {},
   "source": [
    "Finally, let's replace the colon (:) with the period (.) because, clearly, a single dot is much less work to type in than a double dot, right?\n",
    "\n",
    "$\\lambda$ xy.xyx"
   ]
  },
  {
   "cell_type": "markdown",
   "metadata": {},
   "source": [
    "The above notation is the syntax used by mathematicians when they write papers on lambda calculus. "
   ]
  },
  {
   "cell_type": "markdown",
   "metadata": {},
   "source": [
    "## What's the 'calculus' in lambda calculus?\n",
    "\n",
    "Lambda Calculus has nothing whatsoever to do with the Newtonian/Leibniz Calculus that you may have learned in High School or University. \n",
    "\n",
    "Instead in this context, Calculus refers to conversions of the mathematical equations. "
   ]
  },
  {
   "cell_type": "markdown",
   "metadata": {},
   "source": [
    "For example, given the following:\n",
    "\n",
    "$\\lambda$ xy.xyx\n",
    "\n",
    "We have some rules that can allow us to convert or rewrite these functions. \n",
    "\n",
    "Rule #1.  We can rename arguments.\n",
    "But we can't introduce name clashes. \n",
    "\n",
    "This is known in the lambda calculus as:\n",
    "$\\alpha$-conversion.<br>\n",
    "For example:<br>\n",
    "AND = $\\lambda$ xy.xyx\n",
    "\n",
    "Can be renamed as follows:<br>\n",
    "AND = $\\lambda$ zy.zyz\n",
    "\n",
    "In this case, we substituted 'z' for 'x'. "
   ]
  },
  {
   "cell_type": "markdown",
   "metadata": {},
   "source": [
    "Rule #2.  We can substitute arguments. <br>\n",
    "Again, you can't introduce a name clash. \n",
    "\n",
    "So, for example:\n",
    "\n",
    "($\\lambda$xy.xyx)(ab)<br>\n",
    "In python that equation would look like:\n",
    "\n",
    "lambda x: lambda y:x(y)(x)(a(b))\n",
    "\n",
    "The substitution rule says we can take the ab argument\n",
    "and substitute it for the x. \n",
    "\n",
    "So wherever the 'x' is, I'll put the *ab* in.<br>\n",
    "$\\lambda$ y.(ab)y(ab)\n",
    "\n",
    "This is known as $\\beta$-reduction. \n",
    "Here we have to be careful to distinguish between bound and free variables.  \n",
    "\n",
    "For example:\n",
    "\n",
    "What if I had a lambda calculus function defined like this:\n",
    "\n",
    "($\\lambda$xy.xyx)(xy)\n",
    "\n",
    "Note that we have an xy outside the lambda and inside the lambda expression.  They aren't the same.  \n",
    "\n",
    "In python an equivalent might be:\n",
    "\n",
    "\n",
    "    \n",
    "\n",
    "\n"
   ]
  },
  {
   "cell_type": "code",
   "execution_count": 53,
   "metadata": {},
   "outputs": [],
   "source": [
    "# This outer x and y are not the same as\n",
    "# the x and y in the function f. \n",
    "x = 5\n",
    "y = 6\n",
    "\n",
    "def f(x,y):\n",
    "    return x + y # Local variables. "
   ]
  },
  {
   "cell_type": "markdown",
   "metadata": {},
   "source": [
    "Rule #3.  You can create functions.  For example\n"
   ]
  },
  {
   "cell_type": "code",
   "execution_count": 54,
   "metadata": {},
   "outputs": [
    {
     "data": {
      "text/plain": [
       "3"
      ]
     },
     "execution_count": 54,
     "metadata": {},
     "output_type": "execute_result"
    }
   ],
   "source": [
    "x = 3\n",
    "\n",
    "# Let's rewrite this by making it a function. \n",
    "\n",
    "x = lambda x: x\n",
    "x(3)\n",
    "\n",
    "# Why would anyone do this? (That's a rhetorical question)\n",
    "# But it is allowed under the lambda calculus rules. "
   ]
  },
  {
   "cell_type": "markdown",
   "metadata": {},
   "source": [
    "## Recap\n",
    "Let's recap.  We've seen that we can now do the following:\n",
    "\n",
    "1. Define boolean values and operations. \n",
    "2. Define numbers\n",
    "3. Define mathematical operations (SUCC, ADD, MUL). \n",
    "\n",
    "Can we go further?  Is there a way to define a data structure using nothing but single value functions? \n",
    "For example, can we create a list?\n",
    "In the LISP world, there's a function called \n",
    "CONS which builds a list of pairs. <br>\n",
    "CAR which takes the left hand value of the pair.<br>\n",
    "CDR which takes the right hand value of the pair.\n",
    "\n",
    "(Note: CONS, CAR and CDR are assembly language operations in the IBM 704 assembler). \n"
   ]
  },
  {
   "cell_type": "markdown",
   "metadata": {},
   "source": [
    "Let's first write CONS using standard Python..."
   ]
  },
  {
   "cell_type": "code",
   "execution_count": 55,
   "metadata": {},
   "outputs": [],
   "source": [
    "def CONS(x,y):\n",
    "    def select(m):\n",
    "        if m == 0:\n",
    "            return x\n",
    "        else:\n",
    "            return y\n",
    "    return select"
   ]
  },
  {
   "cell_type": "code",
   "execution_count": 56,
   "metadata": {},
   "outputs": [],
   "source": [
    "def CAR(p):\n",
    "    return p(0)\n",
    "def CDR(p):\n",
    "    return p(1)"
   ]
  },
  {
   "cell_type": "code",
   "execution_count": 57,
   "metadata": {},
   "outputs": [
    {
     "data": {
      "text/plain": [
       "2"
      ]
     },
     "execution_count": 57,
     "metadata": {},
     "output_type": "execute_result"
    }
   ],
   "source": [
    "p = CONS(2,3)\n",
    "CAR(p)"
   ]
  },
  {
   "cell_type": "code",
   "execution_count": 58,
   "metadata": {},
   "outputs": [
    {
     "data": {
      "text/plain": [
       "3"
      ]
     },
     "execution_count": 58,
     "metadata": {},
     "output_type": "execute_result"
    }
   ],
   "source": [
    "CDR(p)"
   ]
  },
  {
   "cell_type": "markdown",
   "metadata": {},
   "source": [
    "We did the same thing with our Switch definition. "
   ]
  },
  {
   "cell_type": "markdown",
   "metadata": {},
   "source": []
  },
  {
   "cell_type": "markdown",
   "metadata": {},
   "source": [
    "Let's re-write CONS CAR and CDR using our cut-down language. "
   ]
  },
  {
   "cell_type": "code",
   "execution_count": 59,
   "metadata": {},
   "outputs": [
    {
     "data": {
      "text/plain": [
       "<function __main__.<lambda>.<locals>.<lambda>.<locals>.<lambda>(s)>"
      ]
     },
     "execution_count": 59,
     "metadata": {},
     "output_type": "execute_result"
    }
   ],
   "source": [
    "CONS = lambda a: lambda b: (lambda s: s(a)(b))\n",
    "p = CONS(TWO)(THREE)\n",
    "p"
   ]
  },
  {
   "cell_type": "code",
   "execution_count": 60,
   "metadata": {},
   "outputs": [],
   "source": [
    "CAR = lambda p: p(TRUE)\n",
    "CDR = lambda p: p(FALSE)"
   ]
  },
  {
   "cell_type": "code",
   "execution_count": 61,
   "metadata": {},
   "outputs": [
    {
     "data": {
      "text/plain": [
       "2"
      ]
     },
     "execution_count": 61,
     "metadata": {},
     "output_type": "execute_result"
    }
   ],
   "source": [
    "CAR(p)(incr)(0)"
   ]
  },
  {
   "cell_type": "code",
   "execution_count": 62,
   "metadata": {},
   "outputs": [
    {
     "data": {
      "text/plain": [
       "<function __main__.<lambda>(f)>"
      ]
     },
     "execution_count": 62,
     "metadata": {},
     "output_type": "execute_result"
    }
   ],
   "source": [
    "CDR(p)"
   ]
  },
  {
   "cell_type": "markdown",
   "metadata": {},
   "source": [
    "## Implementing subtraction\n",
    "Now we have a data structure (a pair). How can we use this?  \n",
    "\n",
    " Can we implement subtraction? "
   ]
  },
  {
   "cell_type": "markdown",
   "metadata": {},
   "source": [
    "What about a pair that has (n, n-1)?<br>\n",
    "What if we had a data structure like the following:\n",
    "\n",
    "(0,0)\n",
    "(1,0)\n",
    "(2,1)\n",
    "(3,2)\n",
    "(4,3)\n",
    "\n",
    "Let's create a python function that will help us illustrate this.  \n",
    "\n"
   ]
  },
  {
   "cell_type": "code",
   "execution_count": 63,
   "metadata": {},
   "outputs": [],
   "source": [
    "def t(p):\n",
    "    return (p[0] + 1, p[0])\n"
   ]
  },
  {
   "cell_type": "code",
   "execution_count": 64,
   "metadata": {},
   "outputs": [],
   "source": [
    "THREE = lambda f: lambda x: (f(f(f(x))))"
   ]
  },
  {
   "cell_type": "markdown",
   "metadata": {},
   "source": [
    "Here we'll use the THREE function and pass in the function t(p).  We'll give it a starting point p of (0,0)"
   ]
  },
  {
   "cell_type": "code",
   "execution_count": 65,
   "metadata": {},
   "outputs": [
    {
     "data": {
      "text/plain": [
       "(3, 2)"
      ]
     },
     "execution_count": 65,
     "metadata": {},
     "output_type": "execute_result"
    }
   ],
   "source": [
    "THREE(t)((0,0))"
   ]
  },
  {
   "cell_type": "markdown",
   "metadata": {},
   "source": [
    "So, we can define our function t in our cut down language as taking a parameter p which is really calling the CONS function and giving it the successor to the left hand side of the pair (defined by CAR(p) and the right hand side of the pair is just CAR(p)\n",
    "\n",
    "t = lambda p: CONS(SUCC(CAR(p)))(CAR(p))"
   ]
  },
  {
   "cell_type": "markdown",
   "metadata": {},
   "source": [
    "If we  take a number such as:\n",
    "FOUR(t)(CONS(ZERO)(ZERO))\n",
    "The first element of that pair is going to be four."
   ]
  },
  {
   "cell_type": "code",
   "execution_count": 66,
   "metadata": {},
   "outputs": [
    {
     "data": {
      "text/plain": [
       "4"
      ]
     },
     "execution_count": 66,
     "metadata": {},
     "output_type": "execute_result"
    }
   ],
   "source": [
    "FOUR(incr)(0)"
   ]
  },
  {
   "cell_type": "code",
   "execution_count": 1,
   "metadata": {},
   "outputs": [
    {
     "data": {
      "text/plain": [
       "<function __main__.<lambda>(p)>"
      ]
     },
     "execution_count": 1,
     "metadata": {},
     "output_type": "execute_result"
    }
   ],
   "source": [
    "t= lambda p: CONS(SUCC(CAR(p)))(CAR(p))\n",
    "t"
   ]
  },
  {
   "cell_type": "code",
   "execution_count": 68,
   "metadata": {},
   "outputs": [
    {
     "data": {
      "text/plain": [
       "<function __main__.<lambda>.<locals>.<lambda>.<locals>.<lambda>(s)>"
      ]
     },
     "execution_count": 68,
     "metadata": {},
     "output_type": "execute_result"
    }
   ],
   "source": [
    "FOUR(t)(CONS(ZERO)(ZERO))"
   ]
  },
  {
   "cell_type": "code",
   "execution_count": 69,
   "metadata": {},
   "outputs": [
    {
     "data": {
      "text/plain": [
       "4"
      ]
     },
     "execution_count": 69,
     "metadata": {},
     "output_type": "execute_result"
    }
   ],
   "source": [
    "a = _\n",
    "b = CAR(a)(incr)(0)\n",
    "b"
   ]
  },
  {
   "cell_type": "code",
   "execution_count": 70,
   "metadata": {},
   "outputs": [
    {
     "data": {
      "text/plain": [
       "3"
      ]
     },
     "execution_count": 70,
     "metadata": {},
     "output_type": "execute_result"
    }
   ],
   "source": [
    "CDR(a)(incr)(0)"
   ]
  },
  {
   "cell_type": "markdown",
   "metadata": {},
   "source": [
    "So, we can now calculate a predecessor function "
   ]
  },
  {
   "cell_type": "code",
   "execution_count": 71,
   "metadata": {},
   "outputs": [],
   "source": [
    "PRED = lambda n: CDR(n(T)(CONS(ZERO)(ZERO)))"
   ]
  },
  {
   "cell_type": "code",
   "execution_count": 72,
   "metadata": {},
   "outputs": [],
   "source": [
    "a = FOUR(THREE)"
   ]
  },
  {
   "cell_type": "code",
   "execution_count": 73,
   "metadata": {},
   "outputs": [],
   "source": [
    "b = PRED(a)"
   ]
  },
  {
   "cell_type": "code",
   "execution_count": 74,
   "metadata": {},
   "outputs": [
    {
     "data": {
      "text/plain": [
       "80"
      ]
     },
     "execution_count": 74,
     "metadata": {},
     "output_type": "execute_result"
    }
   ],
   "source": [
    "b(incr)(0)"
   ]
  },
  {
   "cell_type": "markdown",
   "metadata": {},
   "source": [
    "Now we have a PRED function, we can implemente subtraction..\n",
    "\n",
    "SUB = lambda x: lambda y: y(PRED)(x)"
   ]
  },
  {
   "cell_type": "code",
   "execution_count": 75,
   "metadata": {},
   "outputs": [],
   "source": [
    "SUB = lambda x: lambda y: y(PRED)(x)"
   ]
  },
  {
   "cell_type": "code",
   "execution_count": 76,
   "metadata": {},
   "outputs": [],
   "source": [
    "a = SUB(FOUR)(TWO)"
   ]
  },
  {
   "cell_type": "code",
   "execution_count": 77,
   "metadata": {},
   "outputs": [
    {
     "data": {
      "text/plain": [
       "2"
      ]
     },
     "execution_count": 77,
     "metadata": {},
     "output_type": "execute_result"
    }
   ],
   "source": [
    "a(incr)(0)"
   ]
  },
  {
   "cell_type": "markdown",
   "metadata": {},
   "source": [
    "## Can we test a number for zero?\n",
    "\n",
    "If I have a numbers such as zero and two, we defined them as:\n",
    "ZERO = lambda f: lambda x: x\n",
    "TWO = lambda f: lambda x f(f(x))\n",
    "\n",
    "Could I define a function ISZERO?\n",
    "ISZERO = lambda n: n(...)(...)\n",
    "\n",
    "Well, we know if the number is ZERO, then we always return TRUE. \n",
    "\n",
    "ISZERO = lambda n: n(...)(TRUE)\n",
    "What about the left side?\n",
    "Ideally, we'd have some sort of function than returns a FALSE, i.e. ISZERO(TWO) returns FALSE. \n",
    "So let's do that.\n",
    "ISZERO = lambda n: n(lambda f:FALSE)(TRUE)\n",
    "\n",
    "\n"
   ]
  },
  {
   "cell_type": "code",
   "execution_count": 78,
   "metadata": {},
   "outputs": [],
   "source": [
    "ISZERO = lambda n: n(lambda f: FALSE)(TRUE)"
   ]
  },
  {
   "cell_type": "code",
   "execution_count": 79,
   "metadata": {},
   "outputs": [
    {
     "data": {
      "text/plain": [
       "<function __main__.FALSE(x)>"
      ]
     },
     "execution_count": 79,
     "metadata": {},
     "output_type": "execute_result"
    }
   ],
   "source": [
    "ISZERO(TWO)"
   ]
  },
  {
   "cell_type": "code",
   "execution_count": 80,
   "metadata": {},
   "outputs": [
    {
     "data": {
      "text/plain": [
       "<function __main__.TRUE(x)>"
      ]
     },
     "execution_count": 80,
     "metadata": {},
     "output_type": "execute_result"
    }
   ],
   "source": [
    "ISZERO(ZERO)"
   ]
  },
  {
   "cell_type": "markdown",
   "metadata": {},
   "source": [
    "# Our assembly code\n",
    "\n",
    "We've now built a sort of weird assembly code instruction set consisting of a number of operations.\n",
    "\n",
    "AND<br>\n",
    "OR<br>\n",
    "NOT<br>\n",
    "SUCC<br>\n",
    "PRED<br>\n",
    "ADD<br>\n",
    "MUL<br>\n",
    "SUB<br>\n",
    "CONS<br>\n",
    "CAR<br> \n",
    "CDR<br>\n",
    "ISZERO"
   ]
  },
  {
   "cell_type": "markdown",
   "metadata": {},
   "source": [
    "## Recursive functions\n",
    "Given that we have a set of operations, can we implement looping?  Could we, for example using recursion to do this?\n",
    "\n",
    "Let's see a factorial implementation in standard Python."
   ]
  },
  {
   "cell_type": "code",
   "execution_count": 81,
   "metadata": {},
   "outputs": [],
   "source": [
    "def fact(n):\n",
    "    if n == 0:\n",
    "        return 1\n",
    "    else:\n",
    "        return n * fact(n-1)"
   ]
  },
  {
   "cell_type": "code",
   "execution_count": 82,
   "metadata": {},
   "outputs": [
    {
     "data": {
      "text/plain": [
       "24"
      ]
     },
     "execution_count": 82,
     "metadata": {},
     "output_type": "execute_result"
    }
   ],
   "source": [
    "fact(4)"
   ]
  },
  {
   "cell_type": "markdown",
   "metadata": {},
   "source": [
    "Let's try and write this using our cut down language...\n",
    "\n",
    "FACT = lambda n: ISZERO(ONE)(MUL(n)(FACT)(PRED(n))))"
   ]
  },
  {
   "cell_type": "code",
   "execution_count": 83,
   "metadata": {},
   "outputs": [],
   "source": [
    "FACT = lambda n: ISZERO(ONE)(MUL(n)(FACT)(PRED(n)))"
   ]
  },
  {
   "cell_type": "code",
   "execution_count": 84,
   "metadata": {},
   "outputs": [
    {
     "ename": "RecursionError",
     "evalue": "maximum recursion depth exceeded",
     "output_type": "error",
     "traceback": [
      "\u001b[0;31m---------------------------------------------------------------------------\u001b[0m",
      "\u001b[0;31mRecursionError\u001b[0m                            Traceback (most recent call last)",
      "\u001b[0;32m<ipython-input-84-fe04f55d42fa>\u001b[0m in \u001b[0;36m<module>\u001b[0;34m\u001b[0m\n\u001b[0;32m----> 1\u001b[0;31m \u001b[0mFACT\u001b[0m\u001b[0;34m(\u001b[0m\u001b[0mTHREE\u001b[0m\u001b[0;34m)\u001b[0m\u001b[0;34m\u001b[0m\u001b[0;34m\u001b[0m\u001b[0m\n\u001b[0m",
      "\u001b[0;32m<ipython-input-83-f7cf2b069f16>\u001b[0m in \u001b[0;36m<lambda>\u001b[0;34m(n)\u001b[0m\n\u001b[0;32m----> 1\u001b[0;31m \u001b[0mFACT\u001b[0m \u001b[0;34m=\u001b[0m \u001b[0;32mlambda\u001b[0m \u001b[0mn\u001b[0m\u001b[0;34m:\u001b[0m \u001b[0mISZERO\u001b[0m\u001b[0;34m(\u001b[0m\u001b[0mONE\u001b[0m\u001b[0;34m)\u001b[0m\u001b[0;34m(\u001b[0m\u001b[0mMUL\u001b[0m\u001b[0;34m(\u001b[0m\u001b[0mn\u001b[0m\u001b[0;34m)\u001b[0m\u001b[0;34m(\u001b[0m\u001b[0mFACT\u001b[0m\u001b[0;34m)\u001b[0m\u001b[0;34m(\u001b[0m\u001b[0mPRED\u001b[0m\u001b[0;34m(\u001b[0m\u001b[0mn\u001b[0m\u001b[0;34m)\u001b[0m\u001b[0;34m)\u001b[0m\u001b[0;34m)\u001b[0m\u001b[0;34m\u001b[0m\u001b[0;34m\u001b[0m\u001b[0m\n\u001b[0m",
      "\u001b[0;32m<ipython-input-47-bf37f350363c>\u001b[0m in \u001b[0;36m<lambda>\u001b[0;34m(f)\u001b[0m\n\u001b[0;32m----> 1\u001b[0;31m \u001b[0mMUL\u001b[0m\u001b[0;34m=\u001b[0m \u001b[0;32mlambda\u001b[0m \u001b[0mx\u001b[0m\u001b[0;34m:\u001b[0m \u001b[0;32mlambda\u001b[0m \u001b[0my\u001b[0m\u001b[0;34m:\u001b[0m \u001b[0;32mlambda\u001b[0m \u001b[0mf\u001b[0m\u001b[0;34m:\u001b[0m\u001b[0my\u001b[0m\u001b[0;34m(\u001b[0m\u001b[0mx\u001b[0m\u001b[0;34m(\u001b[0m\u001b[0mf\u001b[0m\u001b[0;34m)\u001b[0m\u001b[0;34m)\u001b[0m\u001b[0;34m\u001b[0m\u001b[0;34m\u001b[0m\u001b[0m\n\u001b[0m",
      "\u001b[0;32m<ipython-input-83-f7cf2b069f16>\u001b[0m in \u001b[0;36m<lambda>\u001b[0;34m(n)\u001b[0m\n\u001b[0;32m----> 1\u001b[0;31m \u001b[0mFACT\u001b[0m \u001b[0;34m=\u001b[0m \u001b[0;32mlambda\u001b[0m \u001b[0mn\u001b[0m\u001b[0;34m:\u001b[0m \u001b[0mISZERO\u001b[0m\u001b[0;34m(\u001b[0m\u001b[0mONE\u001b[0m\u001b[0;34m)\u001b[0m\u001b[0;34m(\u001b[0m\u001b[0mMUL\u001b[0m\u001b[0;34m(\u001b[0m\u001b[0mn\u001b[0m\u001b[0;34m)\u001b[0m\u001b[0;34m(\u001b[0m\u001b[0mFACT\u001b[0m\u001b[0;34m)\u001b[0m\u001b[0;34m(\u001b[0m\u001b[0mPRED\u001b[0m\u001b[0;34m(\u001b[0m\u001b[0mn\u001b[0m\u001b[0;34m)\u001b[0m\u001b[0;34m)\u001b[0m\u001b[0;34m)\u001b[0m\u001b[0;34m\u001b[0m\u001b[0;34m\u001b[0m\u001b[0m\n\u001b[0m",
      "\u001b[0;32m<ipython-input-47-bf37f350363c>\u001b[0m in \u001b[0;36m<lambda>\u001b[0;34m(f)\u001b[0m\n\u001b[0;32m----> 1\u001b[0;31m \u001b[0mMUL\u001b[0m\u001b[0;34m=\u001b[0m \u001b[0;32mlambda\u001b[0m \u001b[0mx\u001b[0m\u001b[0;34m:\u001b[0m \u001b[0;32mlambda\u001b[0m \u001b[0my\u001b[0m\u001b[0;34m:\u001b[0m \u001b[0;32mlambda\u001b[0m \u001b[0mf\u001b[0m\u001b[0;34m:\u001b[0m\u001b[0my\u001b[0m\u001b[0;34m(\u001b[0m\u001b[0mx\u001b[0m\u001b[0;34m(\u001b[0m\u001b[0mf\u001b[0m\u001b[0;34m)\u001b[0m\u001b[0;34m)\u001b[0m\u001b[0;34m\u001b[0m\u001b[0;34m\u001b[0m\u001b[0m\n\u001b[0m",
      "\u001b[0;32m<ipython-input-83-f7cf2b069f16>\u001b[0m in \u001b[0;36m<lambda>\u001b[0;34m(n)\u001b[0m\n\u001b[0;32m----> 1\u001b[0;31m \u001b[0mFACT\u001b[0m \u001b[0;34m=\u001b[0m \u001b[0;32mlambda\u001b[0m \u001b[0mn\u001b[0m\u001b[0;34m:\u001b[0m \u001b[0mISZERO\u001b[0m\u001b[0;34m(\u001b[0m\u001b[0mONE\u001b[0m\u001b[0;34m)\u001b[0m\u001b[0;34m(\u001b[0m\u001b[0mMUL\u001b[0m\u001b[0;34m(\u001b[0m\u001b[0mn\u001b[0m\u001b[0;34m)\u001b[0m\u001b[0;34m(\u001b[0m\u001b[0mFACT\u001b[0m\u001b[0;34m)\u001b[0m\u001b[0;34m(\u001b[0m\u001b[0mPRED\u001b[0m\u001b[0;34m(\u001b[0m\u001b[0mn\u001b[0m\u001b[0;34m)\u001b[0m\u001b[0;34m)\u001b[0m\u001b[0;34m)\u001b[0m\u001b[0;34m\u001b[0m\u001b[0;34m\u001b[0m\u001b[0m\n\u001b[0m",
      "\u001b[0;32m<ipython-input-47-bf37f350363c>\u001b[0m in \u001b[0;36m<lambda>\u001b[0;34m(f)\u001b[0m\n\u001b[0;32m----> 1\u001b[0;31m \u001b[0mMUL\u001b[0m\u001b[0;34m=\u001b[0m \u001b[0;32mlambda\u001b[0m \u001b[0mx\u001b[0m\u001b[0;34m:\u001b[0m \u001b[0;32mlambda\u001b[0m \u001b[0my\u001b[0m\u001b[0;34m:\u001b[0m \u001b[0;32mlambda\u001b[0m \u001b[0mf\u001b[0m\u001b[0;34m:\u001b[0m\u001b[0my\u001b[0m\u001b[0;34m(\u001b[0m\u001b[0mx\u001b[0m\u001b[0;34m(\u001b[0m\u001b[0mf\u001b[0m\u001b[0;34m)\u001b[0m\u001b[0;34m)\u001b[0m\u001b[0;34m\u001b[0m\u001b[0;34m\u001b[0m\u001b[0m\n\u001b[0m",
      "\u001b[0;32m<ipython-input-83-f7cf2b069f16>\u001b[0m in \u001b[0;36m<lambda>\u001b[0;34m(n)\u001b[0m\n\u001b[0;32m----> 1\u001b[0;31m \u001b[0mFACT\u001b[0m \u001b[0;34m=\u001b[0m \u001b[0;32mlambda\u001b[0m \u001b[0mn\u001b[0m\u001b[0;34m:\u001b[0m \u001b[0mISZERO\u001b[0m\u001b[0;34m(\u001b[0m\u001b[0mONE\u001b[0m\u001b[0;34m)\u001b[0m\u001b[0;34m(\u001b[0m\u001b[0mMUL\u001b[0m\u001b[0;34m(\u001b[0m\u001b[0mn\u001b[0m\u001b[0;34m)\u001b[0m\u001b[0;34m(\u001b[0m\u001b[0mFACT\u001b[0m\u001b[0;34m)\u001b[0m\u001b[0;34m(\u001b[0m\u001b[0mPRED\u001b[0m\u001b[0;34m(\u001b[0m\u001b[0mn\u001b[0m\u001b[0;34m)\u001b[0m\u001b[0;34m)\u001b[0m\u001b[0;34m)\u001b[0m\u001b[0;34m\u001b[0m\u001b[0;34m\u001b[0m\u001b[0m\n\u001b[0m",
      "\u001b[0;32m<ipython-input-71-8898ffad4c3b>\u001b[0m in \u001b[0;36m<lambda>\u001b[0;34m(n)\u001b[0m\n\u001b[0;32m----> 1\u001b[0;31m \u001b[0mPRED\u001b[0m \u001b[0;34m=\u001b[0m \u001b[0;32mlambda\u001b[0m \u001b[0mn\u001b[0m\u001b[0;34m:\u001b[0m \u001b[0mCDR\u001b[0m\u001b[0;34m(\u001b[0m\u001b[0mn\u001b[0m\u001b[0;34m(\u001b[0m\u001b[0mT\u001b[0m\u001b[0;34m)\u001b[0m\u001b[0;34m(\u001b[0m\u001b[0mCONS\u001b[0m\u001b[0;34m(\u001b[0m\u001b[0mZERO\u001b[0m\u001b[0;34m)\u001b[0m\u001b[0;34m(\u001b[0m\u001b[0mZERO\u001b[0m\u001b[0;34m)\u001b[0m\u001b[0;34m)\u001b[0m\u001b[0;34m)\u001b[0m\u001b[0;34m\u001b[0m\u001b[0;34m\u001b[0m\u001b[0m\n\u001b[0m",
      "\u001b[0;32m<ipython-input-41-7a39da7329bb>\u001b[0m in \u001b[0;36m<lambda>\u001b[0;34m(x)\u001b[0m\n\u001b[0;32m----> 1\u001b[0;31m \u001b[0mSUCC\u001b[0m \u001b[0;34m=\u001b[0m \u001b[0;32mlambda\u001b[0m \u001b[0mn\u001b[0m\u001b[0;34m:\u001b[0m \u001b[0;34m(\u001b[0m\u001b[0;32mlambda\u001b[0m \u001b[0mf\u001b[0m\u001b[0;34m:\u001b[0m\u001b[0;32mlambda\u001b[0m \u001b[0mx\u001b[0m\u001b[0;34m:\u001b[0m\u001b[0mf\u001b[0m\u001b[0;34m(\u001b[0m\u001b[0mn\u001b[0m\u001b[0;34m(\u001b[0m\u001b[0mf\u001b[0m\u001b[0;34m)\u001b[0m\u001b[0;34m(\u001b[0m\u001b[0mx\u001b[0m\u001b[0;34m)\u001b[0m\u001b[0;34m)\u001b[0m\u001b[0;34m)\u001b[0m\u001b[0;34m\u001b[0m\u001b[0;34m\u001b[0m\u001b[0m\n\u001b[0m",
      "... last 1 frames repeated, from the frame below ...\n",
      "\u001b[0;32m<ipython-input-41-7a39da7329bb>\u001b[0m in \u001b[0;36m<lambda>\u001b[0;34m(x)\u001b[0m\n\u001b[0;32m----> 1\u001b[0;31m \u001b[0mSUCC\u001b[0m \u001b[0;34m=\u001b[0m \u001b[0;32mlambda\u001b[0m \u001b[0mn\u001b[0m\u001b[0;34m:\u001b[0m \u001b[0;34m(\u001b[0m\u001b[0;32mlambda\u001b[0m \u001b[0mf\u001b[0m\u001b[0;34m:\u001b[0m\u001b[0;32mlambda\u001b[0m \u001b[0mx\u001b[0m\u001b[0;34m:\u001b[0m\u001b[0mf\u001b[0m\u001b[0;34m(\u001b[0m\u001b[0mn\u001b[0m\u001b[0;34m(\u001b[0m\u001b[0mf\u001b[0m\u001b[0;34m)\u001b[0m\u001b[0;34m(\u001b[0m\u001b[0mx\u001b[0m\u001b[0;34m)\u001b[0m\u001b[0;34m)\u001b[0m\u001b[0;34m)\u001b[0m\u001b[0;34m\u001b[0m\u001b[0;34m\u001b[0m\u001b[0m\n\u001b[0m",
      "\u001b[0;31mRecursionError\u001b[0m: maximum recursion depth exceeded"
     ]
    }
   ],
   "source": [
    "FACT(THREE)\n"
   ]
  },
  {
   "cell_type": "markdown",
   "metadata": {},
   "source": [
    "In this case, the FACT(THREE) function fails with a recursion error, but this isn't due to the lambda calculus itself, but rather the fact that the Python language only does eager evaluation of function parameters. "
   ]
  },
  {
   "cell_type": "markdown",
   "metadata": {},
   "source": [
    "The following simple function illustrates that function parameters get evaluated before the \n",
    "function expression body gets evaluated.  This is eager evaluation of parameters. \n",
    "\n",
    "This is what is causing our recursion error. "
   ]
  },
  {
   "cell_type": "code",
   "execution_count": null,
   "metadata": {},
   "outputs": [],
   "source": [
    "# Here the arg gets evaluated before \n",
    "# the function expression\n",
    "\n",
    "def f(x):  \n",
    "    return 3*x + 1"
   ]
  },
  {
   "cell_type": "markdown",
   "metadata": {},
   "source": [
    "Here's another example. In this example, we try to use a predicate to choose which value to return. The problem is that all of the args are evaluated before the if expression. "
   ]
  },
  {
   "cell_type": "code",
   "execution_count": null,
   "metadata": {},
   "outputs": [],
   "source": [
    "#t is some sort of predicate. \n",
    "def choose (t,a,b):\n",
    "    if t: \n",
    "        return a\n",
    "    else:\n",
    "        return b\n",
    "    \n",
    "a = 0\n",
    "choose (a == 0 ,a,1/a)"
   ]
  },
  {
   "cell_type": "markdown",
   "metadata": {},
   "source": [
    "Here we see that both a and 1/a are evaluated at the same time, causing our ZeroDivisonException even though the predicate should have negated that. "
   ]
  },
  {
   "cell_type": "code",
   "execution_count": null,
   "metadata": {},
   "outputs": [],
   "source": [
    "FACT = lambda n: ISZERO(ONE)(MUL(n)(FACT)(PRED(n)))"
   ]
  },
  {
   "cell_type": "markdown",
   "metadata": {},
   "source": [
    "Here the same problem occurs, in that the ISZERO function and the FACT function are evaluated at the same time. \n",
    "\n",
    "How do we turn this off?"
   ]
  },
  {
   "cell_type": "markdown",
   "metadata": {},
   "source": [
    "One way to fix this problem is to take the (in this case) 1/a param and put it into a lambda like so:"
   ]
  },
  {
   "cell_type": "code",
   "execution_count": null,
   "metadata": {},
   "outputs": [],
   "source": [
    "f = lambda: 1/a"
   ]
  },
  {
   "cell_type": "markdown",
   "metadata": {},
   "source": [
    "Then passing the lambda function instead of the 1/a directly.  This has the effect of postponing the evaluation. "
   ]
  },
  {
   "cell_type": "code",
   "execution_count": null,
   "metadata": {},
   "outputs": [],
   "source": [
    "def choose (t,a,b):\n",
    "    if t: \n",
    "        return a()\n",
    "    else:\n",
    "        return b()\n",
    "    \n",
    "a = 0\n",
    "# f is the lambda function we just defined. \n",
    "choose (a == 0 ,lambda: a,f)"
   ]
  },
  {
   "cell_type": "markdown",
   "metadata": {},
   "source": [
    "We can use this solution to solve our recursion problem with the FACT function.  Recall our definitions of the TRUE and FALSE function."
   ]
  },
  {
   "cell_type": "code",
   "execution_count": null,
   "metadata": {},
   "outputs": [],
   "source": [
    "def TRUE(x):\n",
    "    return lambda y:x\n",
    "\n",
    "def FALSE (x):\n",
    "    return lambda y:y"
   ]
  },
  {
   "cell_type": "markdown",
   "metadata": {},
   "source": [
    "Let's now define a \"LAZY_TRUE\" and a \"LAZY_FALSE\" set of functions."
   ]
  },
  {
   "cell_type": "code",
   "execution_count": 88,
   "metadata": {},
   "outputs": [],
   "source": [
    "LAZY_TRUE = lambda x: lambda y: x()\n",
    "LAZY_FALSE = lambda x: lambda y: y()\n",
    "\n",
    "\n"
   ]
  },
  {
   "cell_type": "markdown",
   "metadata": {},
   "source": [
    "We'll also need to re-write our ISZERO function to use our lazy true/false functions. "
   ]
  },
  {
   "cell_type": "code",
   "execution_count": 89,
   "metadata": {},
   "outputs": [],
   "source": [
    "ISZERO = lambda n: n(lambda f: LAZY_FALSE)(LAZY_TRUE)"
   ]
  },
  {
   "cell_type": "code",
   "execution_count": 96,
   "metadata": {},
   "outputs": [],
   "source": [
    "FACT = lambda n: ISZERO(n)(lambda: ONE)(lambda: MUL(n)(FACT(PRED(n))))"
   ]
  },
  {
   "cell_type": "code",
   "execution_count": 97,
   "metadata": {},
   "outputs": [
    {
     "data": {
      "text/plain": [
       "<function __main__.<lambda>.<locals>.<lambda>.<locals>.<lambda>(f)>"
      ]
     },
     "execution_count": 97,
     "metadata": {},
     "output_type": "execute_result"
    }
   ],
   "source": [
    "FACT(THREE)"
   ]
  },
  {
   "cell_type": "code",
   "execution_count": 98,
   "metadata": {},
   "outputs": [
    {
     "data": {
      "text/plain": [
       "6"
      ]
     },
     "execution_count": 98,
     "metadata": {},
     "output_type": "execute_result"
    }
   ],
   "source": [
    "_(incr)(0)"
   ]
  },
  {
   "cell_type": "markdown",
   "metadata": {},
   "source": [
    "Unfortunately for us, lambda calculus does not allow us to define our factorial function using the reference to FACT. \n",
    "\n",
    "I.e. \n",
    "\n",
    "FACT = lambda n: ISZERO(n)(lambda: ONE)(lambda: MUL(n)(FACT(PRED(n)))) # We can't use FACT inside our FACT function definition. \n",
    "\n",
    "\n"
   ]
  },
  {
   "cell_type": "markdown",
   "metadata": {},
   "source": [
    "Lambda calculus doesn't allow this sort of self-referential \"thing\".  i.e. FACT refers to FACT. \n",
    "In fact, technically we're not allowed to use the '=' at all. \n",
    "\n",
    "How does recursion work then?  We can't refer to ourself. \n",
    "\n",
    "Let's see an example in Python.\n",
    "\n"
   ]
  },
  {
   "cell_type": "code",
   "execution_count": null,
   "metadata": {},
   "outputs": [],
   "source": [
    "\n",
    "def fact(n):\n",
    "    if n == 0:\n",
    "        return 1\n",
    "    else:\n",
    "        n*fact(n-1)  #How could I get rid of fact?\n",
    "        \n"
   ]
  },
  {
   "cell_type": "code",
   "execution_count": 99,
   "metadata": {},
   "outputs": [],
   "source": [
    "# Could I pass fact as an argument?\n",
    "\n",
    "fact = (lambda f: lambda n: 1 if n == 1 else n * f(n-1)(fact))"
   ]
  },
  {
   "cell_type": "markdown",
   "metadata": {},
   "source": [
    "That doesn't really help us.  Because all we've done is just used the fact reference outside the lambda.  "
   ]
  },
  {
   "cell_type": "markdown",
   "metadata": {},
   "source": [
    "Here's another approach. Let's just remove fact and replace it with what fact represents.  \n",
    "\n",
    "This totally breaks DRY. "
   ]
  },
  {
   "cell_type": "code",
   "execution_count": 107,
   "metadata": {},
   "outputs": [],
   "source": [
    "fact = (lambda f: lambda n: 1 if n == 1 else n * f(n-1)\\\n",
    "       (lambda f: lambda n: 1 if n == 1 else n * f(n-1)))"
   ]
  },
  {
   "cell_type": "markdown",
   "metadata": {},
   "source": [
    "But this still doesn't work. This is because we're not following our \"API\" for numbers.  Numbers take a function and a number.  So let's re-write our function to properly pass in a number. \n"
   ]
  },
  {
   "cell_type": "code",
   "execution_count": 104,
   "metadata": {},
   "outputs": [],
   "source": [
    "fact = (lambda f: lambda n: 1 if n == 0 else n*f(f)(n-1))\\\n",
    "        (lambda f: lambda n: 1 if n == 0 else n*f(f)(n-1))(5)"
   ]
  },
  {
   "cell_type": "code",
   "execution_count": 106,
   "metadata": {},
   "outputs": [
    {
     "data": {
      "text/plain": [
       "120"
      ]
     },
     "execution_count": 106,
     "metadata": {},
     "output_type": "execute_result"
    }
   ],
   "source": [
    "fact"
   ]
  },
  {
   "cell_type": "markdown",
   "metadata": {},
   "source": [
    "This way of doing recursion is just awful.  Breaking DRY really makes people skin crawl. \n",
    "Is there a better way of this?"
   ]
  },
  {
   "cell_type": "markdown",
   "metadata": {},
   "source": [
    "## Fixed point functions. \n",
    "\n",
    "A fixed point of a function is an input the function maps to itself.\n",
    "\n",
    "For example, if you run, for example, the square root function and pass an argument and then continue to run the square root function with the returned value from the previous iteration, eventually it will return a one.  "
   ]
  },
  {
   "cell_type": "code",
   "execution_count": 109,
   "metadata": {},
   "outputs": [
    {
     "name": "stdout",
     "output_type": "stream",
     "text": [
      "1.4142135623730951\n",
      "1.189207115002721\n",
      "1.0905077326652577\n",
      "1.0442737824274138\n",
      "1.0218971486541166\n",
      "1.0108892860517005\n",
      "1.0054299011128027\n",
      "1.0027112750502025\n",
      "1.0013547198921082\n",
      "1.0006771306930664\n",
      "1.0003385080526823\n",
      "1.0001692397053021\n",
      "1.0000846162726942\n",
      "1.0000423072413958\n",
      "1.0000211533969647\n",
      "1.0000105766425498\n",
      "1.0000052883072919\n",
      "1.0000026441501502\n",
      "1.0000013220742012\n",
      "1.0000006610368821\n",
      "1.0000003305183864\n",
      "1.0000001652591797\n",
      "1.0000000826295865\n",
      "1.0000000413147925\n",
      "1.000000020657396\n",
      "1.000000010328698\n",
      "1.000000005164349\n",
      "1.0000000025821745\n",
      "1.0000000012910872\n",
      "1.0000000006455436\n",
      "1.0000000003227718\n",
      "1.0000000001613858\n",
      "1.0000000000806928\n",
      "1.0000000000403464\n",
      "1.0000000000201732\n",
      "1.0000000000100866\n",
      "1.0000000000050433\n",
      "1.0000000000025215\n",
      "1.0000000000012608\n",
      "1.0000000000006304\n",
      "1.000000000000315\n",
      "1.0000000000001574\n",
      "1.0000000000000786\n",
      "1.0000000000000393\n",
      "1.0000000000000195\n",
      "1.0000000000000098\n",
      "1.0000000000000049\n",
      "1.0000000000000024\n",
      "1.000000000000001\n",
      "1.0000000000000004\n",
      "1.0000000000000002\n",
      "1.0\n"
     ]
    }
   ],
   "source": [
    "import math\n",
    "def sqrt(n):\n",
    "    return math.sqrt(n)\n",
    "\n",
    "result = sqrt(4)\n",
    "while result != 1:\n",
    "    result =(sqrt(result))\n",
    "    print (result)\n",
    "\n"
   ]
  },
  {
   "cell_type": "markdown",
   "metadata": {},
   "source": [
    "Can this somehow help us with our recursion issue?"
   ]
  },
  {
   "cell_type": "markdown",
   "metadata": {},
   "source": [
    "Let's look at our factorial function again\n",
    "\n",
    "lambda f: lambda n: 1 if n == 0 else n* fact(n-1)<br>\n",
    "lambda f: lambda n: 1 if n == 0 else n* f(n-1)(fact)\n",
    "\n",
    "But what if we can do some sort of substitution?\n",
    "Let's do this:\n",
    "\n",
    "R = lambda f: lambda n: 1 if n == 0 else n* f(n-1)\n",
    "\n",
    "Now we can re-write our factorial function like this:\n",
    "\n",
    "fact = R(fact)\n",
    "This means that fact is a fixed point of R. \n",
    "1 = sqrt(1)  \n",
    "fact = R(fact)\n",
    "\n",
    "But how does that help us?\n",
    "At this point, fact doesn't even exist\n",
    "We know what R is, but what is fact?\n",
    "\n",
    "Here's our leap of faith. \n",
    "\n",
    "Suppose that there is a function Y that computes the fixed point of R. \n",
    "\n",
    "so Y(R) -> Fixed point of R. \n",
    "\n",
    "if it exists, then \n",
    "Y(R) = R(Y(R))\n",
    "So let's use our recursion trick again. \n",
    "\n",
    "Y(R) = ($\\lambda$ x: R(x)(Y(R))\n",
    "\n",
    "Y(R) = ($\\lambda$ x: R(x(x)))($\\lambda$ x: R(x)(x)))<br>\n",
    "This is the \"repeat yourself\" trick. \n",
    "\n",
    "This is now starting to look like some sort of \n",
    "\"formula\".  \n",
    "\n",
    "Let's go a bit further and pull out the 'R'. \n",
    "\n",
    "Y(R) = ($\\lambda$ f:($\\lambda$ x: (f(x)(x)))($\\lambda$ x: f(x)(x))))(R)\n",
    "\n",
    "Notice that we have the 'R' on both sides, so maybe we can drop the R. \n",
    "\n",
    "Y = ($\\lambda$ f:($\\lambda$ x: (f(x)(x)))($\\lambda$ x: f(x)(x))))\n",
    "\n",
    "This is a formula called the Y-Combinator. It was invented by Haskell Curry.  It allows us to do recursion without self-reference for any function applied to it. \n",
    "\n",
    "So if, our R function looks like this:\n",
    "\n",
    "R = ($\\lambda$f: n: 1 if n ==0 else n*f(n-1))\n",
    "and our Y looks like this:\n",
    "\n",
    "Y = ($\\lambda$ f:($\\lambda$ x: (f(x)(x)))($\\lambda$ x: f(x)(x))))\n",
    "\n",
    "then we can say that \n",
    "fact = Y(R)\n",
    "\n",
    "Note that we have to modify the Y combinator function to be able to use it in Python without\n",
    "generating an infinite recursion error by adding\n",
    "an extra argument to allow Python to do lazy evaluation. \n",
    "\n",
    "\n",
    "\n",
    "\n",
    "\n",
    "\n",
    "\n"
   ]
  },
  {
   "cell_type": "code",
   "execution_count": 118,
   "metadata": {},
   "outputs": [
    {
     "data": {
      "text/plain": [
       "6765"
      ]
     },
     "execution_count": 118,
     "metadata": {},
     "output_type": "execute_result"
    }
   ],
   "source": [
    "# Here we are applying our Y Combinator to our 'R' function\n",
    "# which is the fibonacci equation. \n",
    "Y = lambda f: (lambda x: f(lambda z: x(x)(z)))(lambda x: f(lambda z: x(x)(z)))\n",
    "R = lambda f: lambda n: 1 if n <=2 else f(n-1)+f(n-2)\n",
    "fib = Y(R)\n",
    "fib(20)"
   ]
  },
  {
   "cell_type": "markdown",
   "metadata": {},
   "source": [
    "## Final thoughts\n",
    "\n",
    " - Is any of this practical?  Probably not. \n",
    " - No one is going to make a programming language\n",
    "   that operates on Lambda Calculus \n",
    " - Describing numbers as Church Numerals?  No. \n",
    " - A lot of mainstream programming languages     base this abstraction on the hardware layer. \n",
    " - The system runs on machine code, but you don't write machine code.\n",
    " - Lambda Calculus is sort of like this machine layer.  You may not write machine code, but you at least understand what's going on at that low level layer. \n",
    " - Lambda Calculus crops up in many different areas of computer science. \n",
    " - Type theory\n",
    " - Functional languages such as Scheme, Lisp, Scala and Haskell.  \n",
    " - Even with OO-centric languages such as Java and C++. \n",
    " "
   ]
  },
  {
   "cell_type": "markdown",
   "metadata": {},
   "source": [
    "# The End"
   ]
  }
 ],
 "metadata": {
  "kernelspec": {
   "display_name": "Python 3",
   "language": "python",
   "name": "python3"
  },
  "language_info": {
   "codemirror_mode": {
    "name": "ipython",
    "version": 3
   },
   "file_extension": ".py",
   "mimetype": "text/x-python",
   "name": "python",
   "nbconvert_exporter": "python",
   "pygments_lexer": "ipython3",
   "version": "3.6.8"
  }
 },
 "nbformat": 4,
 "nbformat_minor": 2
}
