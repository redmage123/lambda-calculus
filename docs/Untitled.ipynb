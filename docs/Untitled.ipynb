{
 "cells": [
  {
   "cell_type": "markdown",
   "metadata": {},
   "source": [
    "# An Introduction to Lambda Calculus with Python."
   ]
  },
  {
   "cell_type": "markdown",
   "metadata": {},
   "source": [
    "Let's consider the following:\n",
    "We have a programming language defines only one thing: A single value function.  \n",
    "That is to say, a function that only takes a single parameter and returns a function. "
   ]
  },
  {
   "cell_type": "markdown",
   "metadata": {},
   "source": [
    "<img src='graphics/16e.gif'/>"
   ]
  },
  {
   "cell_type": "markdown",
   "metadata": {},
   "source": [
    "a + 1      # Illegal.  No concept of a number '1'. \n",
    "           # No operator '+' \n",
    "           # In fact, no datatypes \n",
    "           #  (strings, numbers,  etc.) at all. \n",
    "    \n",
    "import some_package     #Illegal.  No packages/modules.\n",
    "    \n",
    "def f (a,b):   # Illegal.  Only one param allowed. \n",
    "    pass\n",
    "   \n",
    "def ():         # Illegal, no parameter-less functions \n",
    "    pass        # allowed.\n",
    "   \n",
    "\n",
    "if\n",
    "elif           \n",
    "else           # Illegal.  No control flow statements. \n",
    "for\n",
    "while\n",
    "\n",
    "class Foo:     #Illegal, no classes/objects\n",
    "\n",
    "\n"
   ]
  },
  {
   "cell_type": "markdown",
   "metadata": {},
   "source": [
    "The question becomes:  Can I do anything useful with such a language?"
   ]
  },
  {
   "cell_type": "markdown",
   "metadata": {},
   "source": [
    "Before we start, I'm going to define some useful functions that will allow me to display results to you. \n",
    "These functions aren't part of this hypothetical language, they're only there to allow me to demonstrate results to you all. "
   ]
  },
  {
   "cell_type": "code",
   "execution_count": null,
   "metadata": {},
   "outputs": [],
   "source": [
    "def incr(x):\n",
    "    pass\n",
    "def show(x):\n",
    "    pass"
   ]
  },
  {
   "cell_type": "markdown",
   "metadata": {},
   "source": [
    "What is a function?  How would you explain a function to a ten year old?\n"
   ]
  },
  {
   "cell_type": "code",
   "execution_count": 1,
   "metadata": {},
   "outputs": [
    {
     "data": {
      "text/plain": [
       "11"
      ]
     },
     "execution_count": 1,
     "metadata": {},
     "output_type": "execute_result"
    }
   ],
   "source": [
    "f = lambda x: (3 * x) + 2\n",
    "f(3)   # Replace x with a 3. "
   ]
  }
 ],
 "metadata": {
  "kernelspec": {
   "display_name": "Python 3",
   "language": "python",
   "name": "python3"
  },
  "language_info": {
   "codemirror_mode": {
    "name": "ipython",
    "version": 3
   },
   "file_extension": ".py",
   "mimetype": "text/x-python",
   "name": "python",
   "nbconvert_exporter": "python",
   "pygments_lexer": "ipython3",
   "version": "3.6.8"
  }
 },
 "nbformat": 4,
 "nbformat_minor": 2
}
